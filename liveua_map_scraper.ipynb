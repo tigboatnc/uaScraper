{
 "cells": [
  {
   "cell_type": "code",
   "execution_count": 1,
   "id": "e254b119",
   "metadata": {},
   "outputs": [],
   "source": [
    "src = 'https://liveuamap.com/'"
   ]
  },
  {
   "cell_type": "code",
   "execution_count": 2,
   "id": "8a14a8b3",
   "metadata": {},
   "outputs": [],
   "source": [
    "\n",
    "# Selenium Imports \n",
    "from selenium import webdriver\n",
    "from selenium.webdriver.common.keys import Keys\n",
    "from selenium.webdriver.support.ui import WebDriverWait\n",
    "from selenium.webdriver.support.ui import Select\n",
    "from selenium.webdriver.common.by import By\n",
    "from selenium.webdriver.common.keys import Keys\n",
    "from selenium.webdriver.chrome.options import Options\n",
    "from webdriver_manager.chrome import ChromeDriverManager\n",
    "import uuid\n",
    "import copy\n",
    "from urllib.parse import urlparse\n",
    "import numpy as np\n",
    "import pandas as pd\n",
    "import re \n",
    "from pathlib import Path\n",
    "import os\n",
    "import time\n",
    "from datetime import date\n",
    "from datetime import timedelta\n",
    "from datetime import datetime\n",
    "import dateutil.parser as parser\n",
    "import re\n",
    "import pandas as pd\n",
    "\n",
    "import time\n",
    "\n",
    "today = date.today()\n",
    "cwd = os.getcwd()"
   ]
  },
  {
   "cell_type": "code",
   "execution_count": 3,
   "id": "0095f335",
   "metadata": {},
   "outputs": [
    {
     "name": "stderr",
     "output_type": "stream",
     "text": [
      "[WDM] - \n",
      "\n",
      "[WDM] - ====== WebDriver manager ======\n",
      "[WDM] - Current google-chrome version is 98.0.4758\n",
      "[WDM] - Get LATEST driver version for 98.0.4758\n",
      "[WDM] - Driver [/Users/flipflops/.wdm/drivers/chromedriver/mac64/98.0.4758.102/chromedriver] found in cache\n",
      "/usr/local/Caskroom/miniconda/base/envs/tpc-wa/lib/python3.7/site-packages/ipykernel_launcher.py:4: DeprecationWarning: executable_path has been deprecated, please pass in a Service object\n",
      "  after removing the cwd from sys.path.\n"
     ]
    }
   ],
   "source": [
    "userprofile = 'main2'\n",
    "options = webdriver.ChromeOptions()\n",
    "options.add_argument(f\"user-data-dir={cwd}/.\"+userprofile+\"UserProfile\")\n",
    "driver = webdriver.Chrome(ChromeDriverManager().install() , options=options)\n",
    "\n"
   ]
  },
  {
   "cell_type": "code",
   "execution_count": 4,
   "id": "c1d6a489",
   "metadata": {},
   "outputs": [],
   "source": [
    "from os import listdir\n",
    "from os.path import isfile, join\n",
    "onlyfiles = [f for f in listdir('./output') if isfile(join('./output', f))]"
   ]
  },
  {
   "cell_type": "code",
   "execution_count": 6,
   "id": "45883615",
   "metadata": {},
   "outputs": [],
   "source": [
    "title_stack = [] \n",
    "\n",
    "for fileName in onlyfiles:\n",
    "    if 'csv' in fileName:\n",
    "        df = pd.read_csv(f'./output/{fileName}')\n",
    "        titles = df[['title']]['title'].tolist()\n",
    "        title_stack = title_stack + titles\n",
    "        "
   ]
  },
  {
   "cell_type": "code",
   "execution_count": 4,
   "id": "406879fd",
   "metadata": {},
   "outputs": [],
   "source": [
    "\n",
    "\n",
    "\n"
   ]
  },
  {
   "cell_type": "code",
   "execution_count": 13,
   "id": "07175ecf",
   "metadata": {},
   "outputs": [
    {
     "data": {
      "text/plain": [
       "[<selenium.webdriver.remote.webelement.WebElement (session=\"5ad33bbfd076efdffe1d58e6d76629a2\", element=\"a412a752-9f94-4c59-840d-5f7e2613d1d7\")>,\n",
       " <selenium.webdriver.remote.webelement.WebElement (session=\"5ad33bbfd076efdffe1d58e6d76629a2\", element=\"bdbd8236-9f9d-4351-8cd2-dd40481c3275\")>,\n",
       " <selenium.webdriver.remote.webelement.WebElement (session=\"5ad33bbfd076efdffe1d58e6d76629a2\", element=\"d36af69b-905d-413a-8afe-d313000eb653\")>]"
      ]
     },
     "execution_count": 13,
     "metadata": {},
     "output_type": "execute_result"
    }
   ],
   "source": [
    "driver.get(src)\n",
    "check = driver.find_elements(By.XPATH,f\"//a[@class='logo']\")\n",
    "if len(check)>0:\n",
    "    continue\n",
    "else: \n",
    "    time.sleep(1)\n",
    "    driver.get(src)"
   ]
  },
  {
   "cell_type": "code",
   "execution_count": 5,
   "id": "21033de5",
   "metadata": {},
   "outputs": [],
   "source": [
    "\n",
    "div = 'feedler'\n",
    "feedler = driver.find_element(By.XPATH,f\"//div[@id='{div}']\")"
   ]
  },
  {
   "cell_type": "code",
   "execution_count": 6,
   "id": "821dd948",
   "metadata": {},
   "outputs": [],
   "source": [
    "cards = feedler.find_elements(By.XPATH,f'./*')\n",
    "\n"
   ]
  },
  {
   "cell_type": "code",
   "execution_count": 7,
   "id": "64d0a7d6",
   "metadata": {},
   "outputs": [],
   "source": [
    "current_card = cards[0]"
   ]
  },
  {
   "cell_type": "code",
   "execution_count": null,
   "id": "d10c66c4",
   "metadata": {},
   "outputs": [],
   "source": []
  },
  {
   "cell_type": "code",
   "execution_count": 10,
   "id": "839a3f2a",
   "metadata": {},
   "outputs": [],
   "source": [
    "_src = current_card.find_element(By.XPATH,f\".//div[@class='time top-info']/div[@class='top-right']/a\").get_attribute('href')\n"
   ]
  },
  {
   "cell_type": "code",
   "execution_count": 12,
   "id": "a2a53407",
   "metadata": {},
   "outputs": [
    {
     "name": "stdout",
     "output_type": "stream",
     "text": [
      "<selenium.webdriver.remote.webelement.WebElement (session=\"5ad33bbfd076efdffe1d58e6d76629a2\", element=\"5607044d-9b4f-43f7-92e6-4ea0855a6589\")>\n",
      "Russian Ka-52 helicopter shot near Hostomel\n",
      "\n",
      "\n",
      "<selenium.webdriver.remote.webelement.WebElement (session=\"5ad33bbfd076efdffe1d58e6d76629a2\", element=\"600912aa-6079-4ffa-b62e-181169f9251b\")>\n",
      "NATO Secretary-General: We will implement the defense plan in order to protect our allies, which allows us to deploy our forces in times of need\n",
      "\n",
      "\n",
      "nono\n",
      "<selenium.webdriver.remote.webelement.WebElement (session=\"5ad33bbfd076efdffe1d58e6d76629a2\", element=\"09819a55-75dd-4320-aaaa-f429e1f35a14\")>\n",
      "Confirmed by Ukrainian authorities. A large air assault operation with Mi-8 helicopters on Antonov International Airport in Hostomel. Interior Ministry says Russia has seized control. Very dangerous; it's just 15 minutes west of the capital ring road\n",
      "\n",
      "\n",
      "<selenium.webdriver.remote.webelement.WebElement (session=\"5ad33bbfd076efdffe1d58e6d76629a2\", element=\"904a7a0e-954f-4eac-b205-24559b4d535f\")>\n",
      "EXITING PREMATURE\n",
      "<selenium.webdriver.remote.webelement.WebElement (session=\"5ad33bbfd076efdffe1d58e6d76629a2\", element=\"a0090d8d-9f5c-4a45-92d8-fece44a607e9\")>\n",
      "NATO chief: peace in Europe has been shattered, this is a deliberate and planned invasion; despite the litany of lies, the Kremlin's intentions are clear\n",
      "\n",
      "\n",
      "nono\n",
      "<selenium.webdriver.remote.webelement.WebElement (session=\"5ad33bbfd076efdffe1d58e6d76629a2\", element=\"e4861c79-429e-4aa0-9c37-dd2bbfdef31f\")>\n",
      "NATO Sec Gen Jens Stoltenberg - This is a brutal act of war - Peace on our continent has been shattered - War of a scale and a type that we thought we had consigned to history - Decapture, cold blooded and long planned invasion - Putin \"litany of lies\"\n",
      "\n",
      "\n",
      "<selenium.webdriver.remote.webelement.WebElement (session=\"5ad33bbfd076efdffe1d58e6d76629a2\", element=\"883c99ec-36ec-4a30-a302-9a78a94e05b4\")>\n"
     ]
    }
   ],
   "source": [
    "\n",
    "\n",
    "\n",
    "write_flag = 0\n",
    "\n",
    "BIG_DATA = [] \n",
    "\n",
    "for current_card in cards:\n",
    "    print(current_card)\n",
    "# Check if title exists in stack \n",
    "\n",
    "    \n",
    "    try:\n",
    "\n",
    "        title = current_card.find_element(By.XPATH,f\".//div[@class='title']\").text\n",
    "\n",
    "        if title in title_stack:\n",
    "            break\n",
    "        else:\n",
    "        #     Run Code Here\n",
    "\n",
    "            _uid = str(uuid.uuid4())\n",
    "            _title = current_card.find_element(By.XPATH,f\".//div[@class='title']\").text\n",
    "            print(_title)\n",
    "            print('\\n')\n",
    "            _time = current_card.find_element(By.XPATH,f\".//div[@class='time top-info']/span\").text\n",
    "            _time_capture = datetime.now()\n",
    "            _screenshotted = False\n",
    "            _domain = current_card.find_element(By.XPATH,f\".//div[@class='time top-info']/img\").get_attribute('src')\n",
    "            time.sleep(1)\n",
    "            try:\n",
    "                current_card.click()\n",
    "\n",
    "                current_card.click()\n",
    "            except Exception:\n",
    "                print('nono')\n",
    "\n",
    "            POPPUP = driver.find_element(By.XPATH,f\"//div[@class='popup-info']\")\n",
    "\n",
    "            _full_text = POPPUP.text\n",
    "            _screenshotted_2 = False\n",
    "\n",
    "\n",
    "            time.sleep(1)\n",
    "\n",
    "            _geo = POPPUP.find_element(By.XPATH,f\".//div[@class='marker-time']/a\").text\n",
    "\n",
    "\n",
    "\n",
    "            webdriver.ActionChains(driver).send_keys(Keys.ESCAPE).perform()\n",
    "            webdriver.ActionChains(driver).send_keys(Keys.ESCAPE).perform()\n",
    "\n",
    "\n",
    "            DATA = {\n",
    "                'uid' : _uid,\n",
    "                'title' : _title,\n",
    "                'time' : _time,\n",
    "                'time-capture' : _time_capture,\n",
    "                'sc' : _screenshotted,\n",
    "                'domain' : _domain,\n",
    "                'full-text' : _full_text,\n",
    "                'sc2' : _screenshotted_2,\n",
    "                'geo' : _geo\n",
    "\n",
    "\n",
    "\n",
    "            }\n",
    "    #             print(DATA)\n",
    "\n",
    "\n",
    "\n",
    "            BIG_DATA.append(DATA)\n",
    "    except Exception:\n",
    "        print('EXITING PREMATURE')\n",
    "        timenow = datetime.now()\n",
    "        t =pd.DataFrame(BIG_DATA)\n",
    "        t.to_csv(f'./output/{timenow}.csv')\n",
    "        write_flag = 1 \n",
    "\n",
    "if write_flag == 0: \n",
    "    timenow = datetime.now()\n",
    "    t =pd.DataFrame(BIG_DATA)\n",
    "    t.to_csv(f'./output/{timenow}.csv')"
   ]
  },
  {
   "cell_type": "code",
   "execution_count": 26,
   "id": "2594bfe8",
   "metadata": {},
   "outputs": [
    {
     "data": {
      "text/plain": [
       "'Russian troops have seized the North Crimean Canal and the Kakhovka hydro-electric plant, - the mayor said'"
      ]
     },
     "execution_count": 26,
     "metadata": {},
     "output_type": "execute_result"
    }
   ],
   "source": []
  },
  {
   "cell_type": "code",
   "execution_count": null,
   "id": "ff3c2146",
   "metadata": {},
   "outputs": [],
   "source": [
    "!open .\n"
   ]
  },
  {
   "cell_type": "code",
   "execution_count": null,
   "id": "231de187",
   "metadata": {},
   "outputs": [],
   "source": []
  }
 ],
 "metadata": {
  "kernelspec": {
   "display_name": "Python 3 (ipykernel)",
   "language": "python",
   "name": "python3"
  },
  "language_info": {
   "codemirror_mode": {
    "name": "ipython",
    "version": 3
   },
   "file_extension": ".py",
   "mimetype": "text/x-python",
   "name": "python",
   "nbconvert_exporter": "python",
   "pygments_lexer": "ipython3",
   "version": "3.7.11"
  }
 },
 "nbformat": 4,
 "nbformat_minor": 5
}
